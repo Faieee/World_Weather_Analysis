{
 "cells": [
  {
   "cell_type": "code",
   "execution_count": 26,
   "id": "7b5b6539",
   "metadata": {},
   "outputs": [],
   "source": [
    "import random\n",
    "import numpy as np\n",
    "import timeit"
   ]
  },
  {
   "cell_type": "code",
   "execution_count": 3,
   "id": "f1b04281",
   "metadata": {},
   "outputs": [
    {
     "data": {
      "text/plain": [
       "-16"
      ]
     },
     "execution_count": 3,
     "metadata": {},
     "output_type": "execute_result"
    }
   ],
   "source": [
    "random.randint(-90, 90)"
   ]
  },
  {
   "cell_type": "code",
   "execution_count": 4,
   "id": "0c2efc09",
   "metadata": {},
   "outputs": [
    {
     "data": {
      "text/plain": [
       "0.9823695662380174"
      ]
     },
     "execution_count": 4,
     "metadata": {},
     "output_type": "execute_result"
    }
   ],
   "source": [
    "random.random()"
   ]
  },
  {
   "cell_type": "code",
   "execution_count": 6,
   "id": "7969a8bf",
   "metadata": {},
   "outputs": [
    {
     "data": {
      "text/plain": [
       "-26.617846406854348"
      ]
     },
     "execution_count": 6,
     "metadata": {},
     "output_type": "execute_result"
    }
   ],
   "source": [
    "randomNumber = random.randint(-90, 89) + random.random()\n",
    "randomNumber"
   ]
  },
  {
   "cell_type": "code",
   "execution_count": 20,
   "id": "32185270",
   "metadata": {},
   "outputs": [
    {
     "data": {
      "text/plain": [
       "[62.898278064348375,\n",
       " -52.80231030992505,\n",
       " 13.732409236270541,\n",
       " 49.22079632056386,\n",
       " 1.8792929790089374,\n",
       " 65.94624254082282,\n",
       " -51.12285803314238,\n",
       " 39.49930706111729,\n",
       " -25.917521583951057,\n",
       " 26.900248066660026]"
      ]
     },
     "execution_count": 20,
     "metadata": {},
     "output_type": "execute_result"
    }
   ],
   "source": [
    "latitudes = []\n",
    "\n",
    "for i in range(10):\n",
    "    latitudes.append(random.uniform(-90, 90))\n",
    "\n",
    "latitudes"
   ]
  },
  {
   "cell_type": "code",
   "execution_count": 28,
   "id": "06bce77f",
   "metadata": {},
   "outputs": [
    {
     "name": "stdout",
     "output_type": "stream",
     "text": [
      "13.2 µs ± 55.5 ns per loop (mean ± std. dev. of 7 runs, 100000 loops each)\n"
     ]
    }
   ],
   "source": [
    "%timeit np.random.uniform(-90, 90, size=1500)"
   ]
  },
  {
   "cell_type": "code",
   "execution_count": 31,
   "id": "f25c9406",
   "metadata": {},
   "outputs": [],
   "source": [
    "def lats():\n",
    "    latitudes = []\n",
    "\n",
    "    for i in range(1500):\n",
    "        latitudes.append(random.uniform(-90, 90))\n",
    "\n",
    "    return latitudes"
   ]
  },
  {
   "cell_type": "code",
   "execution_count": 33,
   "id": "eb3c98fa",
   "metadata": {},
   "outputs": [
    {
     "name": "stdout",
     "output_type": "stream",
     "text": [
      "375 µs ± 3.53 µs per loop (mean ± std. dev. of 7 runs, 1000 loops each)\n"
     ]
    }
   ],
   "source": [
    "%timeit lats()"
   ]
  },
  {
   "cell_type": "code",
   "execution_count": null,
   "id": "26f01316",
   "metadata": {},
   "outputs": [],
   "source": []
  }
 ],
 "metadata": {
  "kernelspec": {
   "display_name": "PythonData",
   "language": "python",
   "name": "pythondata"
  },
  "language_info": {
   "codemirror_mode": {
    "name": "ipython",
    "version": 3
   },
   "file_extension": ".py",
   "mimetype": "text/x-python",
   "name": "python",
   "nbconvert_exporter": "python",
   "pygments_lexer": "ipython3",
   "version": "3.7.13"
  }
 },
 "nbformat": 4,
 "nbformat_minor": 5
}
