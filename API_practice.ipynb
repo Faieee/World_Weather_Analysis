{
 "cells": [
  {
   "cell_type": "code",
   "execution_count": 34,
   "id": "19bc45bf",
   "metadata": {},
   "outputs": [],
   "source": [
    "from citipy import citipy\n",
    "import requests\n",
    "from config import weather_api_key as apiKey\n",
    "from datetime import datetime"
   ]
  },
  {
   "cell_type": "code",
   "execution_count": 9,
   "id": "9b2836f8",
   "metadata": {},
   "outputs": [],
   "source": [
    "lats = [25.12903645, 25.92017388, 26.62509167, -59.98969384, 37.30571269]\n",
    "lngs = [-67.59741259, 11.09532135, 74.84233102, -76.89176677, -61.13376282]\n",
    "lat_lngs = zip(lats, lngs)\n",
    "\n",
    "coordinates = list(lat_lngs)"
   ]
  },
  {
   "cell_type": "code",
   "execution_count": 10,
   "id": "2ca819dc",
   "metadata": {},
   "outputs": [
    {
     "name": "stdout",
     "output_type": "stream",
     "text": [
      "cockburn town tc\n",
      "gat ly\n",
      "parvatsar in\n",
      "punta arenas cl\n",
      "saint george bm\n"
     ]
    }
   ],
   "source": [
    "for coordinate in coordinates:\n",
    "    print(citipy.nearest_city(coordinate[0], coordinate[1]).city_name,\n",
    "         citipy.nearest_city(coordinate[0], coordinate[1]).country_code)"
   ]
  },
  {
   "cell_type": "code",
   "execution_count": 20,
   "id": "8ea5448e",
   "metadata": {},
   "outputs": [],
   "source": [
    "url = \"http://api.openweathermap.org/data/2.5/weather?units=Imperial&APPID=\" + apiKey"
   ]
  },
  {
   "cell_type": "code",
   "execution_count": 26,
   "id": "58de8143",
   "metadata": {},
   "outputs": [],
   "source": [
    "# create endpoint URL for city\n",
    "\n",
    "cityUrl = url + \"&q=\" + \"Boston\"\n",
    "cityWeather = requests.get(cityUrl)"
   ]
  },
  {
   "cell_type": "code",
   "execution_count": 30,
   "id": "d45b476d",
   "metadata": {},
   "outputs": [
    {
     "data": {
      "text/plain": [
       "{'coord': {'lon': -71.0598, 'lat': 42.3584},\n",
       " 'weather': [{'id': 803,\n",
       "   'main': 'Clouds',\n",
       "   'description': 'broken clouds',\n",
       "   'icon': '04d'}],\n",
       " 'base': 'stations',\n",
       " 'main': {'temp': 68.2,\n",
       "  'feels_like': 68.81,\n",
       "  'temp_min': 64.38,\n",
       "  'temp_max': 71.22,\n",
       "  'pressure': 1009,\n",
       "  'humidity': 87},\n",
       " 'visibility': 10000,\n",
       " 'wind': {'speed': 1.99, 'deg': 279, 'gust': 5.99},\n",
       " 'clouds': {'all': 52},\n",
       " 'dt': 1657707584,\n",
       " 'sys': {'type': 2,\n",
       "  'id': 2001997,\n",
       "  'country': 'US',\n",
       "  'sunrise': 1657703938,\n",
       "  'sunset': 1657758035},\n",
       " 'timezone': -14400,\n",
       " 'id': 4930956,\n",
       " 'name': 'Boston',\n",
       " 'cod': 200}"
      ]
     },
     "execution_count": 30,
     "metadata": {},
     "output_type": "execute_result"
    }
   ],
   "source": [
    "bostonData = cityWeather.json()\n",
    "bostonData"
   ]
  },
  {
   "cell_type": "code",
   "execution_count": 33,
   "id": "0352e53d",
   "metadata": {},
   "outputs": [
    {
     "name": "stdout",
     "output_type": "stream",
     "text": [
      "42.3584 -71.0598 71.22 87 52 1.99\n"
     ]
    }
   ],
   "source": [
    "lat = bostonData[\"coord\"][\"lat\"]\n",
    "lng = bostonData[\"coord\"][\"lon\"]\n",
    "maxTemp = bostonData[\"main\"][\"temp_max\"]\n",
    "humidity = bostonData[\"main\"][\"humidity\"]\n",
    "clouds = bostonData[\"clouds\"][\"all\"]\n",
    "wind = bostonData[\"wind\"][\"speed\"]\n",
    "\n",
    "print(lat, lng, maxTemp, humidity, clouds, wind)"
   ]
  },
  {
   "cell_type": "code",
   "execution_count": 38,
   "id": "07d51bbb",
   "metadata": {},
   "outputs": [
    {
     "data": {
      "text/plain": [
       "'2022-07-13 10:19:44'"
      ]
     },
     "execution_count": 38,
     "metadata": {},
     "output_type": "execute_result"
    }
   ],
   "source": [
    "date = datetime.utcfromtimestamp(bostonData['dt']).strftime('%Y-%m-%d %H:%M:%S')\n",
    "date"
   ]
  },
  {
   "cell_type": "code",
   "execution_count": null,
   "id": "abc66d53",
   "metadata": {},
   "outputs": [],
   "source": []
  }
 ],
 "metadata": {
  "kernelspec": {
   "display_name": "PythonData",
   "language": "python",
   "name": "pythondata"
  },
  "language_info": {
   "codemirror_mode": {
    "name": "ipython",
    "version": 3
   },
   "file_extension": ".py",
   "mimetype": "text/x-python",
   "name": "python",
   "nbconvert_exporter": "python",
   "pygments_lexer": "ipython3",
   "version": "3.7.13"
  }
 },
 "nbformat": 4,
 "nbformat_minor": 5
}
